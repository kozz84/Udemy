{
  "nbformat": 4,
  "nbformat_minor": 0,
  "metadata": {
    "colab": {
      "name": "intro.ipynb",
      "provenance": [],
      "collapsed_sections": [],
      "toc_visible": true,
      "authorship_tag": "ABX9TyOFUI9oawonHbJj4QGBpY3M",
      "include_colab_link": true
    },
    "kernelspec": {
      "name": "python3",
      "display_name": "Python 3"
    },
    "language_info": {
      "name": "python"
    }
  },
  "cells": [
    {
      "cell_type": "markdown",
      "metadata": {
        "id": "view-in-github",
        "colab_type": "text"
      },
      "source": [
        "<a href=\"https://colab.research.google.com/github/kozz84/Udemy/blob/main/intro.ipynb\" target=\"_parent\"><img src=\"https://colab.research.google.com/assets/colab-badge.svg\" alt=\"Open In Colab\"/></a>"
      ]
    },
    {
      "cell_type": "markdown",
      "source": [
        "### 200+ Exercises - Programming in Python - 2022"
      ],
      "metadata": {
        "id": "j0eao9Pxvr3w"
      }
    },
    {
      "cell_type": "code",
      "source": [
        "#Print the approximation of pi to two decimal places:\n",
        "print('\\nPrint the approximation of pi to two decimal places:')\n",
        "\n",
        "pi = 3.1415926535\n",
        "print(f'Pi: {pi:.2f}')"
      ],
      "metadata": {
        "colab": {
          "base_uri": "https://localhost:8080/"
        },
        "id": "GpMvKwiGJwLG",
        "outputId": "39ed4c20-3319-43df-f385-62b8a1bf8ecf"
      },
      "execution_count": 102,
      "outputs": [
        {
          "output_type": "stream",
          "name": "stdout",
          "text": [
            "\n",
            "Print the approximation of pi to two decimal places:\n",
            "Pi: 3.14\n"
          ]
        }
      ]
    },
    {
      "cell_type": "code",
      "source": [
        "#Print something x times:\n",
        "print('\\nPrint something x times:')\n",
        "print('0.o ' * 20)"
      ],
      "metadata": {
        "colab": {
          "base_uri": "https://localhost:8080/"
        },
        "id": "0-0m2fmhJxOd",
        "outputId": "4ff5d155-b03a-49c7-bf6c-e29754940b2b"
      },
      "execution_count": 103,
      "outputs": [
        {
          "output_type": "stream",
          "name": "stdout",
          "text": [
            "\n",
            "Print something x times:\n",
            "0.o 0.o 0.o 0.o 0.o 0.o 0.o 0.o 0.o 0.o 0.o 0.o 0.o 0.o 0.o 0.o 0.o 0.o 0.o 0.o \n"
          ]
        }
      ]
    },
    {
      "cell_type": "code",
      "source": [
        "#Separation\n",
        "print(\"\\nSeparation\")\n",
        "print('summer', 'time', 'holiday', sep='#')"
      ],
      "metadata": {
        "colab": {
          "base_uri": "https://localhost:8080/"
        },
        "id": "gfiOTITlJyXG",
        "outputId": "0226eac6-65ac-4bea-d43f-6ba384606a38"
      },
      "execution_count": 104,
      "outputs": [
        {
          "output_type": "stream",
          "name": "stdout",
          "text": [
            "\n",
            "Separation\n",
            "summer#time#holiday\n"
          ]
        }
      ]
    },
    {
      "cell_type": "code",
      "source": [
        "#Binary to int\n",
        "print(\"\\nBinary to int\")\n",
        "string = '1 0 0 1 0 1'\n",
        "binary = string[::2]\n",
        "print(binary)\n",
        "number = int(binary, 2)\n",
        "print(f'Number found: {number}')"
      ],
      "metadata": {
        "colab": {
          "base_uri": "https://localhost:8080/"
        },
        "id": "ZsjAvq8YJzKG",
        "outputId": "c498bda8-742f-4100-e33b-e11fe5e1358a"
      },
      "execution_count": 105,
      "outputs": [
        {
          "output_type": "stream",
          "name": "stdout",
          "text": [
            "\n",
            "Binary to int\n",
            "100101\n",
            "Number found: 37\n"
          ]
        }
      ]
    },
    {
      "cell_type": "code",
      "source": [
        "#Reverse order\n",
        "print('\\nReverse order')\n",
        "text = '0123456789'\n",
        "print(text[::-1])\n"
      ],
      "metadata": {
        "colab": {
          "base_uri": "https://localhost:8080/"
        },
        "id": "4S4ngI7nJ16m",
        "outputId": "89352002-8cc4-4aa7-c2bd-f83936a66665"
      },
      "execution_count": 106,
      "outputs": [
        {
          "output_type": "stream",
          "name": "stdout",
          "text": [
            "\n",
            "Reverse order\n",
            "9876543210\n"
          ]
        }
      ]
    },
    {
      "cell_type": "code",
      "source": [
        "# reszta ilorazu\n",
        "print('\\nreszta ilorazu')\n",
        "8%3"
      ],
      "metadata": {
        "colab": {
          "base_uri": "https://localhost:8080/"
        },
        "id": "thxBubCZJ2-f",
        "outputId": "99823884-b6a2-42bf-a938-1ee2101eeb8e"
      },
      "execution_count": 107,
      "outputs": [
        {
          "output_type": "stream",
          "name": "stdout",
          "text": [
            "\n",
            "reszta ilorazu\n"
          ]
        },
        {
          "output_type": "execute_result",
          "data": {
            "text/plain": [
              "2"
            ]
          },
          "metadata": {},
          "execution_count": 107
        }
      ]
    },
    {
      "cell_type": "code",
      "source": [
        "#variable in string\n",
        "print('variable in string')\n",
        "x = 1\n",
        "print('s+{}'.format(x))\n",
        "print\n",
        "num = 12\n",
        "name = 'Sam'\n",
        "print('\\nMy number is: {}, and my name is: {}'.format(num,name))"
      ],
      "metadata": {
        "colab": {
          "base_uri": "https://localhost:8080/"
        },
        "id": "PbWDGpDfJ4xf",
        "outputId": "be4d740d-7193-4639-be7c-e5e6f98c473b"
      },
      "execution_count": 109,
      "outputs": [
        {
          "output_type": "stream",
          "name": "stdout",
          "text": [
            "variable in string\n",
            "s+1\n",
            "\n",
            "My number is: 12, and my name is: Sam\n"
          ]
        }
      ]
    },
    {
      "cell_type": "code",
      "source": [
        "#map and lambda expressions\n",
        "seq = [1,2,3,4,5]\n",
        "print(list(map(lambda x: x*2,seq)))\n",
        "\n",
        "print(list(filter(lambda x: x%2 ==0, seq)))\n",
        "\n",
        "s= 'hello my name is Paul'\n",
        "s.rsplit('is')"
      ],
      "metadata": {
        "colab": {
          "base_uri": "https://localhost:8080/"
        },
        "id": "X1THFFOyJ612",
        "outputId": "889c2854-dab1-4798-e940-40ec2acb9e57"
      },
      "execution_count": 112,
      "outputs": [
        {
          "output_type": "stream",
          "name": "stdout",
          "text": [
            "[2, 4, 6, 8, 10]\n",
            "[2, 4]\n"
          ]
        },
        {
          "output_type": "execute_result",
          "data": {
            "text/plain": [
              "['hello my name ', ' Paul']"
            ]
          },
          "metadata": {},
          "execution_count": 112
        }
      ]
    },
    {
      "cell_type": "code",
      "source": [
        "# FILTERING\n",
        "seq = ['soup','dog','salad','cat','great']\n",
        "s = list(filter(lambda i: i[0]=='s', seq))\n",
        "print(s)"
      ],
      "metadata": {
        "colab": {
          "base_uri": "https://localhost:8080/"
        },
        "id": "qaBJhlAyJ8Jv",
        "outputId": "ad8444e5-abc8-4cab-c0b7-05af74126d24"
      },
      "execution_count": 117,
      "outputs": [
        {
          "output_type": "stream",
          "name": "stdout",
          "text": [
            "['soup', 'salad']\n"
          ]
        }
      ]
    },
    {
      "cell_type": "markdown",
      "source": [
        "# Numpy"
      ],
      "metadata": {
        "id": "kx2V7EWrMRfo"
      }
    },
    {
      "cell_type": "code",
      "source": [
        "import numpy as np\n",
        "np.arange(0,11,2)\n",
        "np.zeros(5)\n",
        "np.ones((5,5))\n",
        "np.zeros((5,5))\n",
        "np.linspace(0,100,100)\n",
        "#np.eye(10)"
      ],
      "metadata": {
        "id": "s9juTTCpMURm",
        "outputId": "021d3aa8-c874-4282-ce20-f484cd2a9379",
        "colab": {
          "base_uri": "https://localhost:8080/"
        }
      },
      "execution_count": 226,
      "outputs": [
        {
          "output_type": "execute_result",
          "data": {
            "text/plain": [
              "array([[  0.        ,   1.01010101,   2.02020202,   3.03030303,\n",
              "          4.04040404,   5.05050505,   6.06060606,   7.07070707,\n",
              "          8.08080808,   9.09090909],\n",
              "       [ 10.1010101 ,  11.11111111,  12.12121212,  13.13131313,\n",
              "         14.14141414,  15.15151515,  16.16161616,  17.17171717,\n",
              "         18.18181818,  19.19191919],\n",
              "       [ 20.2020202 ,  21.21212121,  22.22222222,  23.23232323,\n",
              "         24.24242424,  25.25252525,  26.26262626,  27.27272727,\n",
              "         28.28282828,  29.29292929],\n",
              "       [ 30.3030303 ,  31.31313131,  32.32323232,  33.33333333,\n",
              "         34.34343434,  35.35353535,  36.36363636,  37.37373737,\n",
              "         38.38383838,  39.39393939],\n",
              "       [ 40.4040404 ,  41.41414141,  42.42424242,  43.43434343,\n",
              "         44.44444444,  45.45454545,  46.46464646,  47.47474747,\n",
              "         48.48484848,  49.49494949],\n",
              "       [ 50.50505051,  51.51515152,  52.52525253,  53.53535354,\n",
              "         54.54545455,  55.55555556,  56.56565657,  57.57575758,\n",
              "         58.58585859,  59.5959596 ],\n",
              "       [ 60.60606061,  61.61616162,  62.62626263,  63.63636364,\n",
              "         64.64646465,  65.65656566,  66.66666667,  67.67676768,\n",
              "         68.68686869,  69.6969697 ],\n",
              "       [ 70.70707071,  71.71717172,  72.72727273,  73.73737374,\n",
              "         74.74747475,  75.75757576,  76.76767677,  77.77777778,\n",
              "         78.78787879,  79.7979798 ],\n",
              "       [ 80.80808081,  81.81818182,  82.82828283,  83.83838384,\n",
              "         84.84848485,  85.85858586,  86.86868687,  87.87878788,\n",
              "         88.88888889,  89.8989899 ],\n",
              "       [ 90.90909091,  91.91919192,  92.92929293,  93.93939394,\n",
              "         94.94949495,  95.95959596,  96.96969697,  97.97979798,\n",
              "         98.98989899, 100.        ]])"
            ]
          },
          "metadata": {},
          "execution_count": 226
        }
      ]
    },
    {
      "cell_type": "code",
      "source": [
        "z = np.random.randint(1,50,20)\n",
        "z.dtype"
      ],
      "metadata": {
        "id": "aNnq0TMRSU6M",
        "outputId": "75431287-877d-44bc-9a40-bca99307a139",
        "colab": {
          "base_uri": "https://localhost:8080/"
        }
      },
      "execution_count": 164,
      "outputs": [
        {
          "output_type": "execute_result",
          "data": {
            "text/plain": [
              "dtype('int64')"
            ]
          },
          "metadata": {},
          "execution_count": 164
        }
      ]
    },
    {
      "cell_type": "code",
      "source": [
        "z.argmax()"
      ],
      "metadata": {
        "id": "WJBG2nYLTRJJ",
        "outputId": "11292e55-85ba-42ca-8ee5-7a8e2214d752",
        "colab": {
          "base_uri": "https://localhost:8080/"
        }
      },
      "execution_count": 160,
      "outputs": [
        {
          "output_type": "execute_result",
          "data": {
            "text/plain": [
              "2"
            ]
          },
          "metadata": {},
          "execution_count": 160
        }
      ]
    },
    {
      "cell_type": "markdown",
      "source": [
        "# New Section"
      ],
      "metadata": {
        "id": "PAbKDSZ2elVf"
      }
    },
    {
      "cell_type": "code",
      "source": [
        "arr = np.arange(1,11)"
      ],
      "metadata": {
        "id": "uLe2yQv-esqv"
      },
      "execution_count": 217,
      "outputs": []
    },
    {
      "cell_type": "code",
      "source": [
        "np.(arr)"
      ],
      "metadata": {
        "id": "TDEWTU3uj35C",
        "outputId": "84905603-56ab-4c9e-96f2-5e0cd0308248",
        "colab": {
          "base_uri": "https://localhost:8080/",
          "height": 287
        }
      },
      "execution_count": 221,
      "outputs": [
        {
          "output_type": "error",
          "ename": "AttributeError",
          "evalue": "ignored",
          "traceback": [
            "\u001b[0;31m---------------------------------------------------------------------------\u001b[0m",
            "\u001b[0;31mAttributeError\u001b[0m                            Traceback (most recent call last)",
            "\u001b[0;32m<ipython-input-221-07f949a8161a>\u001b[0m in \u001b[0;36m<module>\u001b[0;34m()\u001b[0m\n\u001b[0;32m----> 1\u001b[0;31m \u001b[0mnp\u001b[0m\u001b[0;34m.\u001b[0m\u001b[0mmsinax\u001b[0m\u001b[0;34m(\u001b[0m\u001b[0marr\u001b[0m\u001b[0;34m)\u001b[0m\u001b[0;34m\u001b[0m\u001b[0;34m\u001b[0m\u001b[0m\n\u001b[0m",
            "\u001b[0;32m/usr/local/lib/python3.7/dist-packages/numpy/__init__.py\u001b[0m in \u001b[0;36m__getattr__\u001b[0;34m(attr)\u001b[0m\n\u001b[1;32m    312\u001b[0m \u001b[0;34m\u001b[0m\u001b[0m\n\u001b[1;32m    313\u001b[0m             raise AttributeError(\"module {!r} has no attribute \"\n\u001b[0;32m--> 314\u001b[0;31m                                  \"{!r}\".format(__name__, attr))\n\u001b[0m\u001b[1;32m    315\u001b[0m \u001b[0;34m\u001b[0m\u001b[0m\n\u001b[1;32m    316\u001b[0m         \u001b[0;32mdef\u001b[0m \u001b[0m__dir__\u001b[0m\u001b[0;34m(\u001b[0m\u001b[0;34m)\u001b[0m\u001b[0;34m:\u001b[0m\u001b[0;34m\u001b[0m\u001b[0;34m\u001b[0m\u001b[0m\n",
            "\u001b[0;31mAttributeError\u001b[0m: module 'numpy' has no attribute 'msinax'"
          ]
        }
      ]
    },
    {
      "cell_type": "code",
      "source": [
        ""
      ],
      "metadata": {
        "id": "sppq_jznj78z"
      },
      "execution_count": null,
      "outputs": []
    }
  ]
}