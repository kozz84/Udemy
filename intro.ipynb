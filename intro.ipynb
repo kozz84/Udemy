{
  "nbformat": 4,
  "nbformat_minor": 0,
  "metadata": {
    "colab": {
      "name": "intro.ipynb",
      "provenance": [],
      "collapsed_sections": [],
      "toc_visible": true,
      "authorship_tag": "ABX9TyPYas9LzBfP+aRSF3BarAAP",
      "include_colab_link": true
    },
    "kernelspec": {
      "name": "python3",
      "display_name": "Python 3"
    },
    "language_info": {
      "name": "python"
    }
  },
  "cells": [
    {
      "cell_type": "markdown",
      "metadata": {
        "id": "view-in-github",
        "colab_type": "text"
      },
      "source": [
        "<a href=\"https://colab.research.google.com/github/kozz84/test-colab/blob/main/intro.ipynb\" target=\"_parent\"><img src=\"https://colab.research.google.com/assets/colab-badge.svg\" alt=\"Open In Colab\"/></a>"
      ]
    },
    {
      "cell_type": "markdown",
      "source": [
        "### 200+ Exercises - Programming in Python - 2022"
      ],
      "metadata": {
        "id": "j0eao9Pxvr3w"
      }
    },
    {
      "cell_type": "markdown",
      "source": [
        "---\n",
        "Print the approximation of pi to two decimal places:"
      ],
      "metadata": {
        "id": "OzF6J8qpv87H"
      }
    },
    {
      "cell_type": "code",
      "source": [
        "pi = 3.1415926535\n",
        "print(f'Pi: {pi:.2f}')"
      ],
      "metadata": {
        "colab": {
          "base_uri": "https://localhost:8080/"
        },
        "id": "azrCx0hEbqBA",
        "outputId": "871c598b-c80b-4803-9321-9d396141495e"
      },
      "execution_count": 18,
      "outputs": [
        {
          "output_type": "stream",
          "name": "stdout",
          "text": [
            "Pi: 3.14\n"
          ]
        }
      ]
    },
    {
      "cell_type": "markdown",
      "source": [
        "---\n",
        "\n",
        "Print something x times:"
      ],
      "metadata": {
        "id": "oUWUI60hv-pQ"
      }
    },
    {
      "cell_type": "code",
      "source": [
        "print('0.o ' * 20)"
      ],
      "metadata": {
        "colab": {
          "base_uri": "https://localhost:8080/"
        },
        "id": "PalPnjR_wB6H",
        "outputId": "d0444686-510c-4d19-8b00-837ee0bbc253"
      },
      "execution_count": 19,
      "outputs": [
        {
          "output_type": "stream",
          "name": "stdout",
          "text": [
            "0.o 0.o 0.o 0.o 0.o 0.o 0.o 0.o 0.o 0.o 0.o 0.o 0.o 0.o 0.o 0.o 0.o 0.o 0.o 0.o \n"
          ]
        }
      ]
    },
    {
      "cell_type": "markdown",
      "source": [
        "---\n",
        "\n",
        "Separation"
      ],
      "metadata": {
        "id": "Rm1o38uhwZRQ"
      }
    },
    {
      "cell_type": "code",
      "source": [
        "print('summer', 'time', 'holiday', sep='#')"
      ],
      "metadata": {
        "colab": {
          "base_uri": "https://localhost:8080/"
        },
        "id": "wyzUTFZiwcAf",
        "outputId": "3388a246-f1ab-4069-91f9-dc7cd2300ada"
      },
      "execution_count": 20,
      "outputs": [
        {
          "output_type": "stream",
          "name": "stdout",
          "text": [
            "summer#time#holiday\n"
          ]
        }
      ]
    },
    {
      "cell_type": "markdown",
      "source": [
        "---\n",
        "Binary to int"
      ],
      "metadata": {
        "id": "NpeqTh1YAXDo"
      }
    },
    {
      "cell_type": "code",
      "source": [
        "string = '1 0 0 1 0 1'\n",
        "binary = string[::2]\n",
        "print(binary)\n",
        "number = int(binary, 2)\n",
        "print(f'Number found: {number}')"
      ],
      "metadata": {
        "id": "e_kgkCdbAZmA",
        "outputId": "d111e37d-1b18-4271-9f4e-847a01b2ac04",
        "colab": {
          "base_uri": "https://localhost:8080/"
        }
      },
      "execution_count": 74,
      "outputs": [
        {
          "output_type": "stream",
          "name": "stdout",
          "text": [
            "100101\n",
            "Number found: 37\n"
          ]
        }
      ]
    },
    {
      "cell_type": "markdown",
      "source": [
        "---\n",
        "Reverse order"
      ],
      "metadata": {
        "id": "DRfIY8KjDAHv"
      }
    },
    {
      "cell_type": "code",
      "source": [
        "text = '0123456789'\n",
        "print(text[::-1])"
      ],
      "metadata": {
        "id": "fbE4p_j7DB_f",
        "outputId": "f4dc4698-18ce-4be9-d9ca-7c09407c4cc9",
        "colab": {
          "base_uri": "https://localhost:8080/"
        }
      },
      "execution_count": 76,
      "outputs": [
        {
          "output_type": "stream",
          "name": "stdout",
          "text": [
            "9876543210\n"
          ]
        }
      ]
    },
    {
      "cell_type": "markdown",
      "source": [
        "---\n"
      ],
      "metadata": {
        "id": "QBDyaQf0wfUw"
      }
    },
    {
      "cell_type": "markdown",
      "source": [
        "# Quick checking"
      ],
      "metadata": {
        "id": "dCUG7iHB0vvg"
      }
    },
    {
      "cell_type": "code",
      "source": [
        "x1, x2, x3 = 10, 11, 9\n",
        "mean = (x1 + x2 + x3) / 3.0\n",
        "print(mean)\n",
        "var = ((x1 - mean)**2 + (x2 - mean)**2 + (x3 - mean)**2) / 3.0\n",
        "std = var**(1/2)\n",
        "print(f'The standard deviation: {std:.2f}')"
      ],
      "metadata": {
        "id": "01Huo3xz004Q",
        "outputId": "3b0bb281-520f-44c3-d353-e5284dc133cd",
        "colab": {
          "base_uri": "https://localhost:8080/"
        }
      },
      "execution_count": 51,
      "outputs": [
        {
          "output_type": "stream",
          "name": "stdout",
          "text": [
            "10.0\n",
            "The standard deviation: 0.82\n"
          ]
        }
      ]
    },
    {
      "cell_type": "code",
      "source": [
        "test = '45435435'\n",
        "test2 = test[::2]\n",
        "print(test2)\n"
      ],
      "metadata": {
        "id": "tLwpHXz02IuJ",
        "outputId": "1620cd3a-5e4b-42b7-9500-92ea1a24354a",
        "colab": {
          "base_uri": "https://localhost:8080/"
        }
      },
      "execution_count": 67,
      "outputs": [
        {
          "output_type": "stream",
          "name": "stdout",
          "text": [
            "4453\n"
          ]
        }
      ]
    }
  ]
}