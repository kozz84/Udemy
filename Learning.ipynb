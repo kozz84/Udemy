{
  "nbformat": 4,
  "nbformat_minor": 0,
  "metadata": {
    "colab": {
      "name": "intro.ipynb",
      "provenance": [],
      "collapsed_sections": [],
      "toc_visible": true,
      "authorship_tag": "ABX9TyM6Kf47sLcQH8Qk3iD9WE/j",
      "include_colab_link": true
    },
    "kernelspec": {
      "name": "python3",
      "display_name": "Python 3"
    },
    "language_info": {
      "name": "python"
    }
  },
  "cells": [
    {
      "cell_type": "markdown",
      "metadata": {
        "id": "view-in-github",
        "colab_type": "text"
      },
      "source": [
        "<a href=\"https://colab.research.google.com/github/kozz84/Udemy/blob/main/Learning.ipynb\" target=\"_parent\"><img src=\"https://colab.research.google.com/assets/colab-badge.svg\" alt=\"Open In Colab\"/></a>"
      ]
    },
    {
      "cell_type": "markdown",
      "source": [
        "### 200+ Exercises - Programming in Python - 2022"
      ],
      "metadata": {
        "id": "j0eao9Pxvr3w"
      }
    },
    {
      "cell_type": "code",
      "source": [
        "#Print the approximation of pi to two decimal places:\n",
        "print('\\nPrint the approximation of pi to two decimal places:')\n",
        "\n",
        "pi = 3.1415926535\n",
        "print(f'Pi: {pi:.2f}')"
      ],
      "metadata": {
        "id": "GpMvKwiGJwLG",
        "outputId": "39ed4c20-3319-43df-f385-62b8a1bf8ecf",
        "colab": {
          "base_uri": "https://localhost:8080/"
        }
      },
      "execution_count": 102,
      "outputs": [
        {
          "output_type": "stream",
          "name": "stdout",
          "text": [
            "\n",
            "Print the approximation of pi to two decimal places:\n",
            "Pi: 3.14\n"
          ]
        }
      ]
    },
    {
      "cell_type": "code",
      "source": [
        "#Print something x times:\n",
        "print('\\nPrint something x times:')\n",
        "print('0.o ' * 20)"
      ],
      "metadata": {
        "id": "0-0m2fmhJxOd",
        "outputId": "4ff5d155-b03a-49c7-bf6c-e29754940b2b",
        "colab": {
          "base_uri": "https://localhost:8080/"
        }
      },
      "execution_count": 103,
      "outputs": [
        {
          "output_type": "stream",
          "name": "stdout",
          "text": [
            "\n",
            "Print something x times:\n",
            "0.o 0.o 0.o 0.o 0.o 0.o 0.o 0.o 0.o 0.o 0.o 0.o 0.o 0.o 0.o 0.o 0.o 0.o 0.o 0.o \n"
          ]
        }
      ]
    },
    {
      "cell_type": "code",
      "source": [
        "#Separation\n",
        "print(\"\\nSeparation\")\n",
        "print('summer', 'time', 'holiday', sep='#')"
      ],
      "metadata": {
        "id": "gfiOTITlJyXG",
        "outputId": "0226eac6-65ac-4bea-d43f-6ba384606a38",
        "colab": {
          "base_uri": "https://localhost:8080/"
        }
      },
      "execution_count": 104,
      "outputs": [
        {
          "output_type": "stream",
          "name": "stdout",
          "text": [
            "\n",
            "Separation\n",
            "summer#time#holiday\n"
          ]
        }
      ]
    },
    {
      "cell_type": "code",
      "source": [
        "#Binary to int\n",
        "print(\"\\nBinary to int\")\n",
        "string = '1 0 0 1 0 1'\n",
        "binary = string[::2]\n",
        "print(binary)\n",
        "number = int(binary, 2)\n",
        "print(f'Number found: {number}')"
      ],
      "metadata": {
        "id": "ZsjAvq8YJzKG",
        "outputId": "c498bda8-742f-4100-e33b-e11fe5e1358a",
        "colab": {
          "base_uri": "https://localhost:8080/"
        }
      },
      "execution_count": 105,
      "outputs": [
        {
          "output_type": "stream",
          "name": "stdout",
          "text": [
            "\n",
            "Binary to int\n",
            "100101\n",
            "Number found: 37\n"
          ]
        }
      ]
    },
    {
      "cell_type": "code",
      "source": [
        "#Reverse order\n",
        "print('\\nReverse order')\n",
        "text = '0123456789'\n",
        "print(text[::-1])\n"
      ],
      "metadata": {
        "id": "4S4ngI7nJ16m",
        "outputId": "89352002-8cc4-4aa7-c2bd-f83936a66665",
        "colab": {
          "base_uri": "https://localhost:8080/"
        }
      },
      "execution_count": 106,
      "outputs": [
        {
          "output_type": "stream",
          "name": "stdout",
          "text": [
            "\n",
            "Reverse order\n",
            "9876543210\n"
          ]
        }
      ]
    },
    {
      "cell_type": "code",
      "source": [
        "# reszta ilorazu\n",
        "print('\\nreszta ilorazu')\n",
        "8%3"
      ],
      "metadata": {
        "id": "thxBubCZJ2-f",
        "outputId": "99823884-b6a2-42bf-a938-1ee2101eeb8e",
        "colab": {
          "base_uri": "https://localhost:8080/"
        }
      },
      "execution_count": 107,
      "outputs": [
        {
          "output_type": "stream",
          "name": "stdout",
          "text": [
            "\n",
            "reszta ilorazu\n"
          ]
        },
        {
          "output_type": "execute_result",
          "data": {
            "text/plain": [
              "2"
            ]
          },
          "metadata": {},
          "execution_count": 107
        }
      ]
    },
    {
      "cell_type": "code",
      "source": [
        "#variable in string\n",
        "print('variable in string')\n",
        "x = 1\n",
        "print('s+{}'.format(x))\n",
        "print\n",
        "num = 12\n",
        "name = 'Sam'\n",
        "print('\\nMy number is: {}, and my name is: {}'.format(num,name))"
      ],
      "metadata": {
        "id": "PbWDGpDfJ4xf",
        "outputId": "be4d740d-7193-4639-be7c-e5e6f98c473b",
        "colab": {
          "base_uri": "https://localhost:8080/"
        }
      },
      "execution_count": 109,
      "outputs": [
        {
          "output_type": "stream",
          "name": "stdout",
          "text": [
            "variable in string\n",
            "s+1\n",
            "\n",
            "My number is: 12, and my name is: Sam\n"
          ]
        }
      ]
    },
    {
      "cell_type": "code",
      "source": [
        "#map and lambda expressions\n",
        "seq = [1,2,3,4,5]\n",
        "print(list(map(lambda x: x*2,seq)))\n",
        "\n",
        "print(list(filter(lambda x: x%2 ==0, seq)))\n",
        "\n",
        "s= 'hello my name is Paul'\n",
        "s.rsplit('is')"
      ],
      "metadata": {
        "id": "X1THFFOyJ612",
        "outputId": "889c2854-dab1-4798-e940-40ec2acb9e57",
        "colab": {
          "base_uri": "https://localhost:8080/"
        }
      },
      "execution_count": 112,
      "outputs": [
        {
          "output_type": "stream",
          "name": "stdout",
          "text": [
            "[2, 4, 6, 8, 10]\n",
            "[2, 4]\n"
          ]
        },
        {
          "output_type": "execute_result",
          "data": {
            "text/plain": [
              "['hello my name ', ' Paul']"
            ]
          },
          "metadata": {},
          "execution_count": 112
        }
      ]
    },
    {
      "cell_type": "code",
      "source": [
        "# FILTERING\n",
        "seq = ['soup','dog','salad','cat','great']\n",
        "s = list(filter(lambda i: i[0]=='s', seq))\n",
        "print(s)"
      ],
      "metadata": {
        "id": "qaBJhlAyJ8Jv",
        "outputId": "ad8444e5-abc8-4cab-c0b7-05af74126d24",
        "colab": {
          "base_uri": "https://localhost:8080/"
        }
      },
      "execution_count": 117,
      "outputs": [
        {
          "output_type": "stream",
          "name": "stdout",
          "text": [
            "['soup', 'salad']\n"
          ]
        }
      ]
    },
    {
      "cell_type": "code",
      "source": [
        ""
      ],
      "metadata": {
        "id": "kzuBkYOuKWtJ"
      },
      "execution_count": null,
      "outputs": []
    }
  ]
}